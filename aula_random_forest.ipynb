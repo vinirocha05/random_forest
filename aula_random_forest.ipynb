{
 "cells": [
  {
   "cell_type": "markdown",
   "id": "67683c66",
   "metadata": {},
   "source": [
    "## Árvores de Decisão\n",
    "\n",
    "No último vídeos estudamos sobre as árvores de decisão, um dos algorítmos mais importantes de machine learning.\n",
    "Apesar dos benefícios desse modelo, existem alguns pontos negtivos importantes a serem considerados. Uma vez que as árvores de decisam se adaptam muito aos dados de treinos o modelo pode facilmente sofrer overfitting dos dados de treino. Na prática, isso quer dizer que em dados que o modelo ainda não tenha analisado o resultado pode ser ruim.\n",
    "Para contornar esse ponto negativo, surgiu o modelo de Random Forest."
   ]
  },
  {
   "cell_type": "markdown",
   "id": "863a264d",
   "metadata": {
    "vscode": {
     "languageId": "plaintext"
    }
   },
   "source": [
    "## O Sabedoria das Multidões\n",
    "\n",
    "Imagine que você precisa fazer uma previsão financeira importante e pode contratar um único especialista financeiro, que é genial, mas tem alguns vieses muito específicos (uma Árvore de Decisão). Ou... você pode contratar um comitê de 100 especialistas diferentes. Cada um deles é bom, mas não tão genial quanto o primeiro. Cada um analisa um subconjunto ligeiramente diferente dos dados e foca em diferentes indicadores. Ao final, você não segue a opinião de um só, mas combina a decisão da maioria. A decisão final do comitê tende a ser muito mais robusta, equilibrada e precisa do que a de um único especialista, por mais brilhante que ele seja.\n",
    "\n",
    "Essa é a alma do Random Forest! Em vez de confiar em uma única Árvore de Decisão (o especialista genial e enviesado), nós criamos uma 'floresta' de centenas de árvores e usamos a sabedoria coletiva delas para tomar uma decisão."
   ]
  },
  {
   "cell_type": "markdown",
   "id": "45b60f47",
   "metadata": {},
   "source": [
    "## Como funciona a Random Forest.\n",
    "\n",
    "Basciamente o Random Forest é uma junção de várias árvores de decisão que nos ajudaram a ter uma visão mais abrangente. Já sabemos como uma árvore de decisão funciona, mas na Random Forest essas árvores de decisão serão construídas de uma forma um pouco diferente.\n"
   ]
  },
  {
   "cell_type": "markdown",
   "id": "d88b4154",
   "metadata": {},
   "source": [
    "### Passo 1: Bootstrap do conjunto de dados\n",
    "\n",
    "O Bootstrap dos dados não é nada mais do que a escolha aleatórios (com reposição) dos dados que serão usados no modelo. \n",
    "Vamos imaginar que tenho um dataset com 10 variáveis. O bootstrap desses dados consistiria de selecionar uma linha desse conjunto de dados do conjunto origial para o novo conjunto, devolver esse linha para o conjunto de dados original e repetir o processo até termos o mesmo número de registro em ambos os conjuntos de dados."
   ]
  },
  {
   "cell_type": "markdown",
   "id": "c5230b43",
   "metadata": {},
   "source": [
    "### Passo 2: Construindo as Árvores com Features Aleatórias\n",
    "\n",
    "Este é o \"Random\" do nome. Para cada árvore, e em cada nó dessa árvore, só permitimos que o algoritmo escolha o melhor atributo a partir de um subconjunto aleatório de todas as features disponíveis. Esse passo é muito importante por que força as árvores a serem diferentes umas das outras. Se não fizéssemos isso, todas as árvores poderiam escolher a mesma \"melhor feature\" no início e acabariam sendo muito parecidas.\n"
   ]
  },
  {
   "cell_type": "markdown",
   "id": "b07fc1fc",
   "metadata": {},
   "source": [
    "### Passo 3: Aggregation\n",
    "\n",
    "Com o conjunto de dados feito com o Bootstrap e as features tendo sido esscolhidas de forma aleatória, podemos ir para o último passos do nosso modelo, a Agregação. \n",
    "\n",
    "Para calcular o resultado final, precisamos ter em mente o tipo de problema que queremos resolver: \n",
    "\n",
    "- Classificação: Votação (a classe que a maioria das árvores previu, ou seja, a moda).\n",
    "- Regressão: Média (a média de todos os valores previstos pelas árvores).\n",
    "\n",
    "*Curiosidade*: O modelo de Random Forest é um modelo de ensemble, ou seja, um modelo que reúne o resultado de vários outros. O processo de usar Bootstrap (Passo 1) para gerar os dados e depois Agregar os resultados (Passo 3) é o que define a técnica de Bagging (que vem de Bootstrap aggregating). O Random Forest é um Bagging de árvores de decisão com o diferencial da aleatoriedade de features (Passo 2)!"
   ]
  },
  {
   "cell_type": "markdown",
   "id": "ad2352bc",
   "metadata": {},
   "source": [
    "## Trade-off Viés-Variância \n",
    "\n",
    "- Viés (Bias): É o erro de um modelo ser simples demais. Ele não captura a complexidade dos dados. (Ex: Tentar modelar uma curva com uma linha reta).\n",
    "\n",
    "- Variância (Variance): É o erro de um modelo ser complexo demais. Ele se ajusta até ao ruído dos dados de treino e não generaliza bem para novos dados (o famoso overfitting).\n",
    "\n",
    "No nosso contexto, podemos podemos entender que:\n",
    "\n",
    "Uma Árvore de Decisão (profunda): Tem baixo viés (consegue se adaptar perfeitamente aos dados de treino) mas altíssima variância (qualquer pequena mudança nos dados de treino gera uma árvore completamente diferente).\n",
    "\n",
    "Random Forest: A \"mágica\" acontece aqui. Ao construirmos centenas de árvores (com alta variância) e tirarmos a média de suas previsões, o resultado final é um modelo que mantém o baixo viés mas consegue ter uma baixa variância! Nós cancelamos o erro de variância através da média, resultando em um modelo muito mais estável e preciso."
   ]
  },
  {
   "cell_type": "markdown",
   "id": "121b2674",
   "metadata": {},
   "source": [
    "### Pontos fortes\n",
    "* O Random forest apresenta resultado superiores aos da árvore de decisão uma vez que seu resultado consiste na média de várias árvores diferentes\n",
    "* Para aplicações em que não é necessário saber exatamente como o modelo chegou no resultado, o modelo de Random Forest pode ser uma boa escolha.\n",
    "\n",
    "### Pontos negativos\n",
    "* Como o Random Forest é uma média do resultado de várias árvores, se torna muito complicada saber quais variáveis o modelo está usando para chegar no resultado.\n",
    "* Para aplicações em que é necessário ter interpretabilidade, como score de crédito, talvez uma árvore de decisão seja mais indicada."
   ]
  }
 ],
 "metadata": {
  "language_info": {
   "name": "python"
  }
 },
 "nbformat": 4,
 "nbformat_minor": 5
}
